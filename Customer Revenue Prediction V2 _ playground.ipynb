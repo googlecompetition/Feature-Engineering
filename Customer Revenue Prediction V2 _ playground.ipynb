{
 "cells": [
  {
   "cell_type": "code",
   "execution_count": null,
   "metadata": {
    "_cell_guid": "b1076dfc-b9ad-4769-8c92-a6c4dae69d19",
    "_uuid": "8f2839f25d086af736a60e9eeb907d3b93b6e0e5",
    "collapsed": true
   },
   "outputs": [],
   "source": [
    "import pandas as pd\n",
    "import numpy as np\n",
    "import matplotlib.pyplot as plt\n",
    "import seaborn as sns\n",
    "import json\n",
    "import gc\n",
    "import sys\n",
    "import math\n",
    "\n",
    "from pandas.io.json import json_normalize\n",
    "from datetime import datetime\n",
    "\n",
    "import os\n",
    "print(os.listdir(\"../input\"))"
   ]
  },
  {
   "cell_type": "code",
   "execution_count": null,
   "metadata": {
    "_uuid": "e688678dc2a15c21b4ad76461cdbbe2983cdb54c",
    "collapsed": true
   },
   "outputs": [],
   "source": [
    "gc.enable()\n",
    "\n",
    "features = ['channelGrouping', 'date', 'fullVisitorId', 'visitId',\\\n",
    "       'visitNumber', 'visitStartTime', 'device.browser',\\\n",
    "       'device.deviceCategory', 'device.isMobile', 'device.operatingSystem',\\\n",
    "       'geoNetwork.city', 'geoNetwork.continent', 'geoNetwork.country',\\\n",
    "       'geoNetwork.metro', 'geoNetwork.networkDomain', 'geoNetwork.region',\\\n",
    "       'geoNetwork.subContinent', 'totals.bounces', 'totals.hits',\\\n",
    "       'totals.newVisits', 'totals.pageviews', 'totals.transactionRevenue',\\\n",
    "       'trafficSource.adContent', 'trafficSource.campaign',\\\n",
    "       'trafficSource.isTrueDirect', 'trafficSource.keyword',\\\n",
    "       'trafficSource.medium', 'trafficSource.referralPath',\\\n",
    "       'trafficSource.source', 'customDimensions']\n",
    "\n",
    "def load_df(csv_path):\n",
    "    JSON_COLUMNS = ['device', 'geoNetwork', 'totals', 'trafficSource']\n",
    "    ans = pd.DataFrame()\n",
    "    dfs = pd.read_csv(csv_path, sep=',',\n",
    "            converters={column: json.loads for column in JSON_COLUMNS}, \n",
    "            dtype={'fullVisitorId': 'str'}, # Important!!\n",
    "            chunksize=100000)\n",
    "    for df in dfs:\n",
    "        df.reset_index(drop=True, inplace=True)\n",
    "        for column in JSON_COLUMNS:\n",
    "            column_as_df = json_normalize(df[column])\n",
    "            column_as_df.columns = [f\"{column}.{subcolumn}\" for subcolumn in column_as_df.columns]\n",
    "            df = df.drop(column, axis=1).merge(column_as_df, right_index=True, left_index=True)\n",
    "\n",
    "        #print(f\"Loaded {os.path.basename(csv_path)}. Shape: {df.shape}\")\n",
    "        use_df = df[features]\n",
    "        del df\n",
    "        gc.collect()\n",
    "        ans = pd.concat([ans, use_df], axis=0).reset_index(drop=True)\n",
    "        #print(ans.shape)\n",
    "    return ans"
   ]
  },
  {
   "cell_type": "code",
   "execution_count": null,
   "metadata": {
    "_cell_guid": "79c7e3d0-c299-4dcb-8224-4455121ee9b0",
    "_uuid": "d629ff2d2480ee46fbb7e2d37f6b5fab8052498a",
    "collapsed": true,
    "scrolled": true
   },
   "outputs": [],
   "source": [
    "%%time\n",
    "train = load_df('../input/train_v2.csv')\n",
    "test = load_df('../input/test_v2.csv')\n",
    "\n",
    "print('train date:', min(train['date']), 'to', max(train['date']))\n",
    "print('test date:', min(test['date']), 'to', max(test['date']))"
   ]
  },
  {
   "cell_type": "code",
   "execution_count": 25,
   "metadata": {},
   "outputs": [
    {
     "data": {
      "text/html": [
       "<div>\n",
       "<style scoped>\n",
       "    .dataframe tbody tr th:only-of-type {\n",
       "        vertical-align: middle;\n",
       "    }\n",
       "\n",
       "    .dataframe tbody tr th {\n",
       "        vertical-align: top;\n",
       "    }\n",
       "\n",
       "    .dataframe thead th {\n",
       "        text-align: right;\n",
       "    }\n",
       "</style>\n",
       "<table border=\"1\" class=\"dataframe\">\n",
       "  <thead>\n",
       "    <tr style=\"text-align: right;\">\n",
       "      <th></th>\n",
       "      <th>channelGrouping</th>\n",
       "      <th>date</th>\n",
       "      <th>fullVisitorId</th>\n",
       "      <th>visitId</th>\n",
       "      <th>visitNumber</th>\n",
       "      <th>visitStartTime</th>\n",
       "      <th>device.browser</th>\n",
       "      <th>device.deviceCategory</th>\n",
       "      <th>device.isMobile</th>\n",
       "      <th>device.operatingSystem</th>\n",
       "      <th>geoNetwork.city</th>\n",
       "      <th>geoNetwork.continent</th>\n",
       "      <th>geoNetwork.country</th>\n",
       "      <th>geoNetwork.metro</th>\n",
       "      <th>geoNetwork.networkDomain</th>\n",
       "      <th>geoNetwork.region</th>\n",
       "      <th>geoNetwork.subContinent</th>\n",
       "      <th>totals.bounces</th>\n",
       "      <th>totals.hits</th>\n",
       "      <th>totals.newVisits</th>\n",
       "      <th>totals.pageviews</th>\n",
       "      <th>totals.transactionRevenue</th>\n",
       "      <th>trafficSource.adContent</th>\n",
       "      <th>trafficSource.campaign</th>\n",
       "      <th>trafficSource.isTrueDirect</th>\n",
       "      <th>trafficSource.keyword</th>\n",
       "      <th>trafficSource.medium</th>\n",
       "      <th>trafficSource.referralPath</th>\n",
       "      <th>trafficSource.source</th>\n",
       "      <th>customDimensions</th>\n",
       "    </tr>\n",
       "  </thead>\n",
       "  <tbody>\n",
       "    <tr>\n",
       "      <th>0</th>\n",
       "      <td>Organic Search</td>\n",
       "      <td>20171016</td>\n",
       "      <td>3162355547410993243</td>\n",
       "      <td>1508198450</td>\n",
       "      <td>1</td>\n",
       "      <td>1508198450</td>\n",
       "      <td>Firefox</td>\n",
       "      <td>desktop</td>\n",
       "      <td>0.0</td>\n",
       "      <td>Windows</td>\n",
       "      <td>not available in demo dataset</td>\n",
       "      <td>Europe</td>\n",
       "      <td>Germany</td>\n",
       "      <td>not available in demo dataset</td>\n",
       "      <td>(not set)</td>\n",
       "      <td>not available in demo dataset</td>\n",
       "      <td>Western Europe</td>\n",
       "      <td>1</td>\n",
       "      <td>1</td>\n",
       "      <td>1</td>\n",
       "      <td>1</td>\n",
       "      <td>0.0</td>\n",
       "      <td>NaN</td>\n",
       "      <td>(not set)</td>\n",
       "      <td>NaN</td>\n",
       "      <td>water bottle</td>\n",
       "      <td>organic</td>\n",
       "      <td>NaN</td>\n",
       "      <td>google</td>\n",
       "      <td>[{'index': '4', 'value': 'EMEA'}]</td>\n",
       "    </tr>\n",
       "    <tr>\n",
       "      <th>1</th>\n",
       "      <td>Referral</td>\n",
       "      <td>20171016</td>\n",
       "      <td>8934116514970143966</td>\n",
       "      <td>1508176307</td>\n",
       "      <td>6</td>\n",
       "      <td>1508176307</td>\n",
       "      <td>Chrome</td>\n",
       "      <td>desktop</td>\n",
       "      <td>0.0</td>\n",
       "      <td>Chrome OS</td>\n",
       "      <td>Cupertino</td>\n",
       "      <td>Americas</td>\n",
       "      <td>United States</td>\n",
       "      <td>San Francisco-Oakland-San Jose CA</td>\n",
       "      <td>(not set)</td>\n",
       "      <td>California</td>\n",
       "      <td>Northern America</td>\n",
       "      <td>NaN</td>\n",
       "      <td>2</td>\n",
       "      <td>NaN</td>\n",
       "      <td>2</td>\n",
       "      <td>0.0</td>\n",
       "      <td>NaN</td>\n",
       "      <td>(not set)</td>\n",
       "      <td>NaN</td>\n",
       "      <td>NaN</td>\n",
       "      <td>referral</td>\n",
       "      <td>/a/google.com/transportation/mtv-services/bike...</td>\n",
       "      <td>sites.google.com</td>\n",
       "      <td>[{'index': '4', 'value': 'North America'}]</td>\n",
       "    </tr>\n",
       "    <tr>\n",
       "      <th>2</th>\n",
       "      <td>Direct</td>\n",
       "      <td>20171016</td>\n",
       "      <td>7992466427990357681</td>\n",
       "      <td>1508201613</td>\n",
       "      <td>1</td>\n",
       "      <td>1508201613</td>\n",
       "      <td>Chrome</td>\n",
       "      <td>mobile</td>\n",
       "      <td>1.0</td>\n",
       "      <td>Android</td>\n",
       "      <td>not available in demo dataset</td>\n",
       "      <td>Americas</td>\n",
       "      <td>United States</td>\n",
       "      <td>not available in demo dataset</td>\n",
       "      <td>windjammercable.net</td>\n",
       "      <td>not available in demo dataset</td>\n",
       "      <td>Northern America</td>\n",
       "      <td>NaN</td>\n",
       "      <td>2</td>\n",
       "      <td>1</td>\n",
       "      <td>2</td>\n",
       "      <td>0.0</td>\n",
       "      <td>NaN</td>\n",
       "      <td>(not set)</td>\n",
       "      <td>True</td>\n",
       "      <td>NaN</td>\n",
       "      <td>(none)</td>\n",
       "      <td>NaN</td>\n",
       "      <td>(direct)</td>\n",
       "      <td>[{'index': '4', 'value': 'North America'}]</td>\n",
       "    </tr>\n",
       "    <tr>\n",
       "      <th>3</th>\n",
       "      <td>Organic Search</td>\n",
       "      <td>20171016</td>\n",
       "      <td>9075655783635761930</td>\n",
       "      <td>1508169851</td>\n",
       "      <td>1</td>\n",
       "      <td>1508169851</td>\n",
       "      <td>Chrome</td>\n",
       "      <td>desktop</td>\n",
       "      <td>0.0</td>\n",
       "      <td>Windows</td>\n",
       "      <td>not available in demo dataset</td>\n",
       "      <td>Asia</td>\n",
       "      <td>Turkey</td>\n",
       "      <td>not available in demo dataset</td>\n",
       "      <td>unknown.unknown</td>\n",
       "      <td>not available in demo dataset</td>\n",
       "      <td>Western Asia</td>\n",
       "      <td>NaN</td>\n",
       "      <td>2</td>\n",
       "      <td>1</td>\n",
       "      <td>2</td>\n",
       "      <td>0.0</td>\n",
       "      <td>NaN</td>\n",
       "      <td>(not set)</td>\n",
       "      <td>NaN</td>\n",
       "      <td>(not provided)</td>\n",
       "      <td>organic</td>\n",
       "      <td>NaN</td>\n",
       "      <td>google</td>\n",
       "      <td>[{'index': '4', 'value': 'EMEA'}]</td>\n",
       "    </tr>\n",
       "    <tr>\n",
       "      <th>4</th>\n",
       "      <td>Organic Search</td>\n",
       "      <td>20171016</td>\n",
       "      <td>6960673291025684308</td>\n",
       "      <td>1508190552</td>\n",
       "      <td>1</td>\n",
       "      <td>1508190552</td>\n",
       "      <td>Chrome</td>\n",
       "      <td>desktop</td>\n",
       "      <td>0.0</td>\n",
       "      <td>Windows</td>\n",
       "      <td>not available in demo dataset</td>\n",
       "      <td>Americas</td>\n",
       "      <td>Mexico</td>\n",
       "      <td>not available in demo dataset</td>\n",
       "      <td>prod-infinitum.com.mx</td>\n",
       "      <td>not available in demo dataset</td>\n",
       "      <td>Central America</td>\n",
       "      <td>NaN</td>\n",
       "      <td>2</td>\n",
       "      <td>1</td>\n",
       "      <td>2</td>\n",
       "      <td>0.0</td>\n",
       "      <td>NaN</td>\n",
       "      <td>(not set)</td>\n",
       "      <td>NaN</td>\n",
       "      <td>(not provided)</td>\n",
       "      <td>organic</td>\n",
       "      <td>NaN</td>\n",
       "      <td>google</td>\n",
       "      <td>[{'index': '4', 'value': 'Central America'}]</td>\n",
       "    </tr>\n",
       "  </tbody>\n",
       "</table>\n",
       "</div>"
      ],
      "text/plain": [
       "  channelGrouping                      ...                                                   customDimensions\n",
       "0  Organic Search                      ...                                  [{'index': '4', 'value': 'EMEA'}]\n",
       "1        Referral                      ...                         [{'index': '4', 'value': 'North America'}]\n",
       "2          Direct                      ...                         [{'index': '4', 'value': 'North America'}]\n",
       "3  Organic Search                      ...                                  [{'index': '4', 'value': 'EMEA'}]\n",
       "4  Organic Search                      ...                       [{'index': '4', 'value': 'Central America'}]\n",
       "\n",
       "[5 rows x 30 columns]"
      ]
     },
     "execution_count": 25,
     "metadata": {},
     "output_type": "execute_result"
    }
   ],
   "source": [
    "train.head()"
   ]
  },
  {
   "cell_type": "code",
   "execution_count": 29,
   "metadata": {},
   "outputs": [
    {
     "data": {
      "text/html": [
       "<div>\n",
       "<style scoped>\n",
       "    .dataframe tbody tr th:only-of-type {\n",
       "        vertical-align: middle;\n",
       "    }\n",
       "\n",
       "    .dataframe tbody tr th {\n",
       "        vertical-align: top;\n",
       "    }\n",
       "\n",
       "    .dataframe thead th {\n",
       "        text-align: right;\n",
       "    }\n",
       "</style>\n",
       "<table border=\"1\" class=\"dataframe\">\n",
       "  <thead>\n",
       "    <tr style=\"text-align: right;\">\n",
       "      <th></th>\n",
       "      <th>channelGrouping</th>\n",
       "      <th>date</th>\n",
       "      <th>fullVisitorId</th>\n",
       "      <th>visitId</th>\n",
       "      <th>visitNumber</th>\n",
       "      <th>visitStartTime</th>\n",
       "      <th>device.browser</th>\n",
       "      <th>device.deviceCategory</th>\n",
       "      <th>device.isMobile</th>\n",
       "      <th>device.operatingSystem</th>\n",
       "      <th>geoNetwork.city</th>\n",
       "      <th>geoNetwork.continent</th>\n",
       "      <th>geoNetwork.country</th>\n",
       "      <th>geoNetwork.metro</th>\n",
       "      <th>geoNetwork.networkDomain</th>\n",
       "      <th>geoNetwork.region</th>\n",
       "      <th>geoNetwork.subContinent</th>\n",
       "      <th>totals.bounces</th>\n",
       "      <th>totals.hits</th>\n",
       "      <th>totals.newVisits</th>\n",
       "      <th>totals.pageviews</th>\n",
       "      <th>totals.transactionRevenue</th>\n",
       "      <th>trafficSource.adContent</th>\n",
       "      <th>trafficSource.campaign</th>\n",
       "      <th>trafficSource.isTrueDirect</th>\n",
       "      <th>trafficSource.keyword</th>\n",
       "      <th>trafficSource.medium</th>\n",
       "      <th>trafficSource.referralPath</th>\n",
       "      <th>trafficSource.source</th>\n",
       "      <th>customDimensions</th>\n",
       "    </tr>\n",
       "  </thead>\n",
       "  <tbody>\n",
       "    <tr>\n",
       "      <th>0</th>\n",
       "      <td>Organic Search</td>\n",
       "      <td>20180511</td>\n",
       "      <td>7460955084541987166</td>\n",
       "      <td>1526099341</td>\n",
       "      <td>2</td>\n",
       "      <td>1526099341</td>\n",
       "      <td>Chrome</td>\n",
       "      <td>mobile</td>\n",
       "      <td>1.0</td>\n",
       "      <td>Android</td>\n",
       "      <td>(not set)</td>\n",
       "      <td>Asia</td>\n",
       "      <td>India</td>\n",
       "      <td>(not set)</td>\n",
       "      <td>unknown.unknown</td>\n",
       "      <td>Delhi</td>\n",
       "      <td>Southern Asia</td>\n",
       "      <td>NaN</td>\n",
       "      <td>4</td>\n",
       "      <td>NaN</td>\n",
       "      <td>3</td>\n",
       "      <td>NaN</td>\n",
       "      <td>(not set)</td>\n",
       "      <td>(not set)</td>\n",
       "      <td>True</td>\n",
       "      <td>(not provided)</td>\n",
       "      <td>organic</td>\n",
       "      <td>(not set)</td>\n",
       "      <td>google</td>\n",
       "      <td>[{'index': '4', 'value': 'APAC'}]</td>\n",
       "    </tr>\n",
       "    <tr>\n",
       "      <th>1</th>\n",
       "      <td>Direct</td>\n",
       "      <td>20180511</td>\n",
       "      <td>460252456180441002</td>\n",
       "      <td>1526064483</td>\n",
       "      <td>166</td>\n",
       "      <td>1526064483</td>\n",
       "      <td>Chrome</td>\n",
       "      <td>desktop</td>\n",
       "      <td>0.0</td>\n",
       "      <td>Macintosh</td>\n",
       "      <td>San Francisco</td>\n",
       "      <td>Americas</td>\n",
       "      <td>United States</td>\n",
       "      <td>San Francisco-Oakland-San Jose CA</td>\n",
       "      <td>(not set)</td>\n",
       "      <td>California</td>\n",
       "      <td>Northern America</td>\n",
       "      <td>NaN</td>\n",
       "      <td>4</td>\n",
       "      <td>NaN</td>\n",
       "      <td>3</td>\n",
       "      <td>NaN</td>\n",
       "      <td>(not set)</td>\n",
       "      <td>(not set)</td>\n",
       "      <td>True</td>\n",
       "      <td>(not set)</td>\n",
       "      <td>(none)</td>\n",
       "      <td>(not set)</td>\n",
       "      <td>(direct)</td>\n",
       "      <td>[{'index': '4', 'value': 'North America'}]</td>\n",
       "    </tr>\n",
       "    <tr>\n",
       "      <th>2</th>\n",
       "      <td>Organic Search</td>\n",
       "      <td>20180511</td>\n",
       "      <td>3461808543879602873</td>\n",
       "      <td>1526067157</td>\n",
       "      <td>2</td>\n",
       "      <td>1526067157</td>\n",
       "      <td>Chrome</td>\n",
       "      <td>desktop</td>\n",
       "      <td>0.0</td>\n",
       "      <td>Chrome OS</td>\n",
       "      <td>not available in demo dataset</td>\n",
       "      <td>Americas</td>\n",
       "      <td>United States</td>\n",
       "      <td>not available in demo dataset</td>\n",
       "      <td>onlinecomputerworks.com</td>\n",
       "      <td>not available in demo dataset</td>\n",
       "      <td>Northern America</td>\n",
       "      <td>NaN</td>\n",
       "      <td>4</td>\n",
       "      <td>NaN</td>\n",
       "      <td>3</td>\n",
       "      <td>NaN</td>\n",
       "      <td>(not set)</td>\n",
       "      <td>(not set)</td>\n",
       "      <td>True</td>\n",
       "      <td>(not provided)</td>\n",
       "      <td>organic</td>\n",
       "      <td>(not set)</td>\n",
       "      <td>google</td>\n",
       "      <td>[{'index': '4', 'value': 'North America'}]</td>\n",
       "    </tr>\n",
       "    <tr>\n",
       "      <th>3</th>\n",
       "      <td>Direct</td>\n",
       "      <td>20180511</td>\n",
       "      <td>975129477712150630</td>\n",
       "      <td>1526107551</td>\n",
       "      <td>4</td>\n",
       "      <td>1526107551</td>\n",
       "      <td>Chrome</td>\n",
       "      <td>mobile</td>\n",
       "      <td>1.0</td>\n",
       "      <td>iOS</td>\n",
       "      <td>Houston</td>\n",
       "      <td>Americas</td>\n",
       "      <td>United States</td>\n",
       "      <td>Houston TX</td>\n",
       "      <td>(not set)</td>\n",
       "      <td>Texas</td>\n",
       "      <td>Northern America</td>\n",
       "      <td>NaN</td>\n",
       "      <td>5</td>\n",
       "      <td>NaN</td>\n",
       "      <td>4</td>\n",
       "      <td>NaN</td>\n",
       "      <td>(not set)</td>\n",
       "      <td>(not set)</td>\n",
       "      <td>True</td>\n",
       "      <td>(not set)</td>\n",
       "      <td>(none)</td>\n",
       "      <td>(not set)</td>\n",
       "      <td>(direct)</td>\n",
       "      <td>[{'index': '4', 'value': 'North America'}]</td>\n",
       "    </tr>\n",
       "    <tr>\n",
       "      <th>4</th>\n",
       "      <td>Organic Search</td>\n",
       "      <td>20180511</td>\n",
       "      <td>8381672768065729990</td>\n",
       "      <td>1526060254</td>\n",
       "      <td>1</td>\n",
       "      <td>1526060254</td>\n",
       "      <td>Internet Explorer</td>\n",
       "      <td>tablet</td>\n",
       "      <td>1.0</td>\n",
       "      <td>Windows</td>\n",
       "      <td>Irvine</td>\n",
       "      <td>Americas</td>\n",
       "      <td>United States</td>\n",
       "      <td>Los Angeles CA</td>\n",
       "      <td>com</td>\n",
       "      <td>California</td>\n",
       "      <td>Northern America</td>\n",
       "      <td>NaN</td>\n",
       "      <td>5</td>\n",
       "      <td>1</td>\n",
       "      <td>4</td>\n",
       "      <td>NaN</td>\n",
       "      <td>(not set)</td>\n",
       "      <td>(not set)</td>\n",
       "      <td>NaN</td>\n",
       "      <td>(not provided)</td>\n",
       "      <td>organic</td>\n",
       "      <td>(not set)</td>\n",
       "      <td>google</td>\n",
       "      <td>[{'index': '4', 'value': 'North America'}]</td>\n",
       "    </tr>\n",
       "  </tbody>\n",
       "</table>\n",
       "</div>"
      ],
      "text/plain": [
       "  channelGrouping                     ...                                                customDimensions\n",
       "0  Organic Search                     ...                               [{'index': '4', 'value': 'APAC'}]\n",
       "1          Direct                     ...                      [{'index': '4', 'value': 'North America'}]\n",
       "2  Organic Search                     ...                      [{'index': '4', 'value': 'North America'}]\n",
       "3          Direct                     ...                      [{'index': '4', 'value': 'North America'}]\n",
       "4  Organic Search                     ...                      [{'index': '4', 'value': 'North America'}]\n",
       "\n",
       "[5 rows x 30 columns]"
      ]
     },
     "execution_count": 29,
     "metadata": {},
     "output_type": "execute_result"
    }
   ],
   "source": [
    "test.head()"
   ]
  },
  {
   "cell_type": "code",
   "execution_count": null,
   "metadata": {
    "collapsed": true
   },
   "outputs": [],
   "source": [
    "train['totals.transactionRevenue'].describe()"
   ]
  },
  {
   "cell_type": "code",
   "execution_count": null,
   "metadata": {
    "_uuid": "838393362ad3cf67afe056b0a27cb11926077220",
    "collapsed": true
   },
   "outputs": [],
   "source": [
    "# Thanks and credited to https://www.kaggle.com/gemartin\n",
    "def reduce_mem_usage(df):\n",
    "    \"\"\" iterate through all the columns of a dataframe and modify the data type\n",
    "        to reduce memory usage.        \n",
    "    \"\"\"\n",
    "    start_mem = df.memory_usage().sum() \n",
    "    print('Memory usage of dataframe is {:.2f} MB'.format(start_mem))\n",
    "    \n",
    "    for col in df.columns:\n",
    "        col_type = df[col].dtype\n",
    "        \n",
    "        if col_type != object:\n",
    "            c_min = df[col].min()\n",
    "            c_max = df[col].max()\n",
    "            if str(col_type)[:3] == 'int':\n",
    "                if c_min > np.iinfo(np.int8).min and c_max < np.iinfo(np.int8).max:\n",
    "                    df[col] = df[col].astype(np.int8)\n",
    "                elif c_min > np.iinfo(np.int16).min and c_max < np.iinfo(np.int16).max:\n",
    "                    df[col] = df[col].astype(np.int16)\n",
    "                elif c_min > np.iinfo(np.int32).min and c_max < np.iinfo(np.int32).max:\n",
    "                    df[col] = df[col].astype(np.int32)\n",
    "                elif c_min > np.iinfo(np.int64).min and c_max < np.iinfo(np.int64).max:\n",
    "                    df[col] = df[col].astype(np.int64)  \n",
    "            else:\n",
    "                if c_min > np.finfo(np.float16).min and c_max < np.finfo(np.float16).max:\n",
    "                    df[col] = df[col].astype(np.float16)\n",
    "                elif c_min > np.finfo(np.float32).min and c_max < np.finfo(np.float32).max:\n",
    "                    df[col] = df[col].astype(np.float32)\n",
    "                else:\n",
    "                    df[col] = df[col].astype(np.float64)\n",
    "        #else:\n",
    "            #df[col] = df[col].astype('category')\n",
    "\n",
    "    end_mem = df.memory_usage().sum() \n",
    "    print('Memory usage after optimization is: {:.2f} MB'.format(end_mem))\n",
    "    print('Decreased by {:.1f}%'.format(100 * (start_mem - end_mem) / start_mem))\n",
    "    return df\n",
    "\n",
    "train = reduce_mem_usage(train)\n",
    "test = reduce_mem_usage(test)"
   ]
  },
  {
   "cell_type": "code",
   "execution_count": null,
   "metadata": {
    "_uuid": "3a4cd6ceececc6736eed2ca310037ca59df30563",
    "collapsed": true
   },
   "outputs": [],
   "source": [
    "# only train feature\n",
    "for c in train.columns.values:\n",
    "    if c not in test.columns.values: print(c)"
   ]
  },
  {
   "cell_type": "code",
   "execution_count": null,
   "metadata": {
    "_uuid": "92a8e510b31fc08078cadc85836b8807ea12ef51",
    "collapsed": true,
    "scrolled": true
   },
   "outputs": [],
   "source": [
    "train['totals.transactionRevenue'].fillna(0, inplace=True)\n",
    "train['totals.transactionRevenue'] = np.log1p(train['totals.transactionRevenue'].astype(float))\n",
    "print(train['totals.transactionRevenue'].describe())"
   ]
  },
  {
   "cell_type": "code",
   "execution_count": null,
   "metadata": {
    "_uuid": "ce7728eb1e5e50bd38f6db35feeb133b471d3721",
    "collapsed": true
   },
   "outputs": [],
   "source": [
    "test['totals.transactionRevenue'] = np.nan"
   ]
  },
  {
   "cell_type": "markdown",
   "metadata": {
    "_uuid": "39e9e2840995b2a4d084b2a23644028622451e79"
   },
   "source": [
    "# "
   ]
  },
  {
   "cell_type": "code",
   "execution_count": null,
   "metadata": {
    "_uuid": "02c53418bb112ed272f7282d3e1e4b3228ec3f39",
    "collapsed": true
   },
   "outputs": [],
   "source": [
    "all_data = train.append(test, sort=False).reset_index(drop=True)"
   ]
  },
  {
   "cell_type": "code",
   "execution_count": null,
   "metadata": {
    "_uuid": "21e9028c7ddbec508a817e3253b3dcfccf0a6f8b",
    "collapsed": true,
    "scrolled": true
   },
   "outputs": [],
   "source": [
    "print(all_data.info())"
   ]
  },
  {
   "cell_type": "code",
   "execution_count": null,
   "metadata": {
    "_uuid": "69f008c8b1d10e4b28945b97be085b43c290cc27",
    "collapsed": true,
    "scrolled": false
   },
   "outputs": [],
   "source": [
    "null_cnt = train.isnull().sum().sort_values()\n",
    "print(null_cnt[null_cnt > 0])"
   ]
  },
  {
   "cell_type": "code",
   "execution_count": null,
   "metadata": {
    "_uuid": "f3134948730860dbe84e9a3672b5398c437b791f",
    "collapsed": true
   },
   "outputs": [],
   "source": [
    "# fillna object feature\n",
    "for col in ['trafficSource.keyword',\n",
    "            'trafficSource.referralPath',\n",
    "            'trafficSource.adContent']:\n",
    "    all_data[col].fillna('unknown', inplace=True)\n",
    "\n",
    "# fillna numeric feature\n",
    "all_data['totals.pageviews'].fillna(1, inplace=True)\n",
    "all_data['totals.newVisits'].fillna(0, inplace=True)\n",
    "all_data['totals.bounces'].fillna(0, inplace=True)\n",
    "all_data['totals.pageviews'] = all_data['totals.pageviews'].astype(int)\n",
    "all_data['totals.newVisits'] = all_data['totals.newVisits'].astype(int)\n",
    "all_data['totals.bounces'] = all_data['totals.bounces'].astype(int)\n",
    "\n",
    "# fillna boolean feature\n",
    "all_data['trafficSource.isTrueDirect'].fillna(False, inplace=True)"
   ]
  },
  {
   "cell_type": "code",
   "execution_count": null,
   "metadata": {
    "collapsed": true
   },
   "outputs": [],
   "source": [
    "all_data.describe()"
   ]
  },
  {
   "cell_type": "code",
   "execution_count": null,
   "metadata": {
    "_uuid": "e93201ab3ceec116e1e66c64e8cb8b13019d96f6",
    "collapsed": true
   },
   "outputs": [],
   "source": [
    "# drop constant column\n",
    "constant_column = [col for col in all_data.columns if all_data[col].nunique() == 1]\n",
    "#for c in constant_column:\n",
    "#    print(c + ':', train[c].unique())\n",
    "\n",
    "print('drop columns:', constant_column)\n",
    "all_data.drop(constant_column, axis=1, inplace=True)"
   ]
  },
  {
   "cell_type": "code",
   "execution_count": 28,
   "metadata": {
    "_uuid": "e607e6782bbbaa79a7cfbaa79364223a899fe94c"
   },
   "outputs": [
    {
     "data": {
      "text/html": [
       "<div>\n",
       "<style scoped>\n",
       "    .dataframe tbody tr th:only-of-type {\n",
       "        vertical-align: middle;\n",
       "    }\n",
       "\n",
       "    .dataframe tbody tr th {\n",
       "        vertical-align: top;\n",
       "    }\n",
       "\n",
       "    .dataframe thead th {\n",
       "        text-align: right;\n",
       "    }\n",
       "</style>\n",
       "<table border=\"1\" class=\"dataframe\">\n",
       "  <thead>\n",
       "    <tr style=\"text-align: right;\">\n",
       "      <th></th>\n",
       "      <th>date</th>\n",
       "      <th>visitId</th>\n",
       "      <th>visitNumber</th>\n",
       "      <th>totals.hits</th>\n",
       "      <th>totals.pageviews</th>\n",
       "      <th>totals.transactionRevenue</th>\n",
       "    </tr>\n",
       "  </thead>\n",
       "  <tbody>\n",
       "    <tr>\n",
       "      <th>664454</th>\n",
       "      <td>20170829</td>\n",
       "      <td>1504068634</td>\n",
       "      <td>1</td>\n",
       "      <td>25</td>\n",
       "      <td>18</td>\n",
       "      <td>0.000000</td>\n",
       "    </tr>\n",
       "    <tr>\n",
       "      <th>422426</th>\n",
       "      <td>20170922</td>\n",
       "      <td>1506112800</td>\n",
       "      <td>3</td>\n",
       "      <td>2</td>\n",
       "      <td>2</td>\n",
       "      <td>0.000000</td>\n",
       "    </tr>\n",
       "    <tr>\n",
       "      <th>800474</th>\n",
       "      <td>20170926</td>\n",
       "      <td>1506435456</td>\n",
       "      <td>4</td>\n",
       "      <td>30</td>\n",
       "      <td>23</td>\n",
       "      <td>16.156354</td>\n",
       "    </tr>\n",
       "    <tr>\n",
       "      <th>2868</th>\n",
       "      <td>20171016</td>\n",
       "      <td>1508160211</td>\n",
       "      <td>5</td>\n",
       "      <td>2</td>\n",
       "      <td>2</td>\n",
       "      <td>0.000000</td>\n",
       "    </tr>\n",
       "    <tr>\n",
       "      <th>1</th>\n",
       "      <td>20171016</td>\n",
       "      <td>1508176307</td>\n",
       "      <td>6</td>\n",
       "      <td>2</td>\n",
       "      <td>2</td>\n",
       "      <td>0.000000</td>\n",
       "    </tr>\n",
       "    <tr>\n",
       "      <th>7755</th>\n",
       "      <td>20171130</td>\n",
       "      <td>1512072970</td>\n",
       "      <td>7</td>\n",
       "      <td>3</td>\n",
       "      <td>3</td>\n",
       "      <td>0.000000</td>\n",
       "    </tr>\n",
       "    <tr>\n",
       "      <th>1183546</th>\n",
       "      <td>20171217</td>\n",
       "      <td>1513517517</td>\n",
       "      <td>8</td>\n",
       "      <td>18</td>\n",
       "      <td>13</td>\n",
       "      <td>16.587474</td>\n",
       "    </tr>\n",
       "  </tbody>\n",
       "</table>\n",
       "</div>"
      ],
      "text/plain": [
       "             date            ...              totals.transactionRevenue\n",
       "664454   20170829            ...                               0.000000\n",
       "422426   20170922            ...                               0.000000\n",
       "800474   20170926            ...                              16.156354\n",
       "2868     20171016            ...                               0.000000\n",
       "1        20171016            ...                               0.000000\n",
       "7755     20171130            ...                               0.000000\n",
       "1183546  20171217            ...                              16.587474\n",
       "\n",
       "[7 rows x 6 columns]"
      ]
     },
     "execution_count": 28,
     "metadata": {},
     "output_type": "execute_result"
    }
   ],
   "source": [
    "# pickup any visitor\n",
    "all_data[all_data['fullVisitorId'] == '8934116514970143966'].sort_values(by='visitNumber')[\n",
    "    ['date','visitId','visitNumber','totals.hits','totals.pageviews','totals.transactionRevenue']]"
   ]
  },
  {
   "cell_type": "code",
   "execution_count": 30,
   "metadata": {
    "_uuid": "a8f4e841406d2babd6e8c3429dc0f9221a2f58ad"
   },
   "outputs": [
    {
     "name": "stdout",
     "output_type": "stream",
     "text": [
      "18514\n"
     ]
    },
    {
     "data": {
      "text/html": [
       "<div>\n",
       "<style scoped>\n",
       "    .dataframe tbody tr th:only-of-type {\n",
       "        vertical-align: middle;\n",
       "    }\n",
       "\n",
       "    .dataframe tbody tr th {\n",
       "        vertical-align: top;\n",
       "    }\n",
       "\n",
       "    .dataframe thead th {\n",
       "        text-align: right;\n",
       "    }\n",
       "</style>\n",
       "<table border=\"1\" class=\"dataframe\">\n",
       "  <thead>\n",
       "    <tr style=\"text-align: right;\">\n",
       "      <th></th>\n",
       "      <th>channelGrouping</th>\n",
       "      <th>date</th>\n",
       "      <th>fullVisitorId</th>\n",
       "      <th>visitId</th>\n",
       "      <th>visitNumber</th>\n",
       "      <th>visitStartTime</th>\n",
       "      <th>device.browser</th>\n",
       "      <th>device.deviceCategory</th>\n",
       "      <th>device.isMobile</th>\n",
       "      <th>device.operatingSystem</th>\n",
       "      <th>geoNetwork.city</th>\n",
       "      <th>geoNetwork.continent</th>\n",
       "      <th>geoNetwork.country</th>\n",
       "      <th>geoNetwork.metro</th>\n",
       "      <th>geoNetwork.networkDomain</th>\n",
       "      <th>geoNetwork.region</th>\n",
       "      <th>geoNetwork.subContinent</th>\n",
       "      <th>totals.bounces</th>\n",
       "      <th>totals.hits</th>\n",
       "      <th>totals.newVisits</th>\n",
       "      <th>totals.pageviews</th>\n",
       "      <th>totals.transactionRevenue</th>\n",
       "      <th>trafficSource.adContent</th>\n",
       "      <th>trafficSource.campaign</th>\n",
       "      <th>trafficSource.isTrueDirect</th>\n",
       "      <th>trafficSource.keyword</th>\n",
       "      <th>trafficSource.medium</th>\n",
       "      <th>trafficSource.referralPath</th>\n",
       "      <th>trafficSource.source</th>\n",
       "      <th>customDimensions</th>\n",
       "    </tr>\n",
       "  </thead>\n",
       "  <tbody>\n",
       "    <tr>\n",
       "      <th>433</th>\n",
       "      <td>Organic Search</td>\n",
       "      <td>20171016</td>\n",
       "      <td>9549826748224805897</td>\n",
       "      <td>1508200705</td>\n",
       "      <td>4</td>\n",
       "      <td>1508200705</td>\n",
       "      <td>Chrome</td>\n",
       "      <td>desktop</td>\n",
       "      <td>0.0</td>\n",
       "      <td>Macintosh</td>\n",
       "      <td>New York</td>\n",
       "      <td>Americas</td>\n",
       "      <td>United States</td>\n",
       "      <td>New York NY</td>\n",
       "      <td>(not set)</td>\n",
       "      <td>New York</td>\n",
       "      <td>Northern America</td>\n",
       "      <td>NaN</td>\n",
       "      <td>9</td>\n",
       "      <td>NaN</td>\n",
       "      <td>9</td>\n",
       "      <td>16.536148</td>\n",
       "      <td>NaN</td>\n",
       "      <td>(not set)</td>\n",
       "      <td>True</td>\n",
       "      <td>(not provided)</td>\n",
       "      <td>organic</td>\n",
       "      <td>NaN</td>\n",
       "      <td>google</td>\n",
       "      <td>[{'index': '4', 'value': 'North America'}]</td>\n",
       "    </tr>\n",
       "    <tr>\n",
       "      <th>550</th>\n",
       "      <td>Referral</td>\n",
       "      <td>20171016</td>\n",
       "      <td>3700714855829972615</td>\n",
       "      <td>1508192636</td>\n",
       "      <td>11</td>\n",
       "      <td>1508192636</td>\n",
       "      <td>Chrome</td>\n",
       "      <td>desktop</td>\n",
       "      <td>0.0</td>\n",
       "      <td>Windows</td>\n",
       "      <td>Irvine</td>\n",
       "      <td>Americas</td>\n",
       "      <td>United States</td>\n",
       "      <td>Los Angeles CA</td>\n",
       "      <td>(not set)</td>\n",
       "      <td>California</td>\n",
       "      <td>Northern America</td>\n",
       "      <td>NaN</td>\n",
       "      <td>15</td>\n",
       "      <td>NaN</td>\n",
       "      <td>12</td>\n",
       "      <td>15.894952</td>\n",
       "      <td>NaN</td>\n",
       "      <td>(not set)</td>\n",
       "      <td>NaN</td>\n",
       "      <td>NaN</td>\n",
       "      <td>(none)</td>\n",
       "      <td>/</td>\n",
       "      <td>(direct)</td>\n",
       "      <td>[{'index': '4', 'value': 'North America'}]</td>\n",
       "    </tr>\n",
       "    <tr>\n",
       "      <th>555</th>\n",
       "      <td>Organic Search</td>\n",
       "      <td>20171016</td>\n",
       "      <td>1572225825161580042</td>\n",
       "      <td>1508162218</td>\n",
       "      <td>6</td>\n",
       "      <td>1508162218</td>\n",
       "      <td>Safari</td>\n",
       "      <td>mobile</td>\n",
       "      <td>1.0</td>\n",
       "      <td>iOS</td>\n",
       "      <td>Mountain View</td>\n",
       "      <td>Americas</td>\n",
       "      <td>United States</td>\n",
       "      <td>San Francisco-Oakland-San Jose CA</td>\n",
       "      <td>purechat.com</td>\n",
       "      <td>California</td>\n",
       "      <td>Northern America</td>\n",
       "      <td>NaN</td>\n",
       "      <td>15</td>\n",
       "      <td>NaN</td>\n",
       "      <td>15</td>\n",
       "      <td>17.863811</td>\n",
       "      <td>NaN</td>\n",
       "      <td>(not set)</td>\n",
       "      <td>True</td>\n",
       "      <td>(not provided)</td>\n",
       "      <td>organic</td>\n",
       "      <td>NaN</td>\n",
       "      <td>google</td>\n",
       "      <td>[{'index': '4', 'value': 'North America'}]</td>\n",
       "    </tr>\n",
       "    <tr>\n",
       "      <th>597</th>\n",
       "      <td>Referral</td>\n",
       "      <td>20171016</td>\n",
       "      <td>7187192533100162289</td>\n",
       "      <td>1508189401</td>\n",
       "      <td>17</td>\n",
       "      <td>1508189401</td>\n",
       "      <td>Chrome</td>\n",
       "      <td>desktop</td>\n",
       "      <td>0.0</td>\n",
       "      <td>Macintosh</td>\n",
       "      <td>Mountain View</td>\n",
       "      <td>Americas</td>\n",
       "      <td>United States</td>\n",
       "      <td>San Francisco-Oakland-San Jose CA</td>\n",
       "      <td>(not set)</td>\n",
       "      <td>California</td>\n",
       "      <td>Northern America</td>\n",
       "      <td>NaN</td>\n",
       "      <td>18</td>\n",
       "      <td>NaN</td>\n",
       "      <td>16</td>\n",
       "      <td>16.718579</td>\n",
       "      <td>NaN</td>\n",
       "      <td>(not set)</td>\n",
       "      <td>True</td>\n",
       "      <td>NaN</td>\n",
       "      <td>(none)</td>\n",
       "      <td>/</td>\n",
       "      <td>(direct)</td>\n",
       "      <td>[{'index': '4', 'value': 'North America'}]</td>\n",
       "    </tr>\n",
       "    <tr>\n",
       "      <th>619</th>\n",
       "      <td>Referral</td>\n",
       "      <td>20171016</td>\n",
       "      <td>7889233516776348524</td>\n",
       "      <td>1508190484</td>\n",
       "      <td>1</td>\n",
       "      <td>1508190484</td>\n",
       "      <td>Chrome</td>\n",
       "      <td>desktop</td>\n",
       "      <td>0.0</td>\n",
       "      <td>Macintosh</td>\n",
       "      <td>New York</td>\n",
       "      <td>Americas</td>\n",
       "      <td>United States</td>\n",
       "      <td>New York NY</td>\n",
       "      <td>(not set)</td>\n",
       "      <td>New York</td>\n",
       "      <td>Northern America</td>\n",
       "      <td>NaN</td>\n",
       "      <td>21</td>\n",
       "      <td>1</td>\n",
       "      <td>20</td>\n",
       "      <td>16.325923</td>\n",
       "      <td>NaN</td>\n",
       "      <td>(not set)</td>\n",
       "      <td>NaN</td>\n",
       "      <td>NaN</td>\n",
       "      <td>(none)</td>\n",
       "      <td>/</td>\n",
       "      <td>(direct)</td>\n",
       "      <td>[{'index': '4', 'value': 'North America'}]</td>\n",
       "    </tr>\n",
       "  </tbody>\n",
       "</table>\n",
       "</div>"
      ],
      "text/plain": [
       "    channelGrouping                     ...                                                customDimensions\n",
       "433  Organic Search                     ...                      [{'index': '4', 'value': 'North America'}]\n",
       "550        Referral                     ...                      [{'index': '4', 'value': 'North America'}]\n",
       "555  Organic Search                     ...                      [{'index': '4', 'value': 'North America'}]\n",
       "597        Referral                     ...                      [{'index': '4', 'value': 'North America'}]\n",
       "619        Referral                     ...                      [{'index': '4', 'value': 'North America'}]\n",
       "\n",
       "[5 rows x 30 columns]"
      ]
     },
     "execution_count": 30,
     "metadata": {},
     "output_type": "execute_result"
    }
   ],
   "source": [
    "train_rev = train[train['totals.transactionRevenue'] > 0].copy()\n",
    "print(len(train_rev))\n",
    "train_rev.head()"
   ]
  },
  {
   "cell_type": "code",
   "execution_count": 31,
   "metadata": {
    "_uuid": "a4558c13d3270bd5e12a8abae94dc144194d4cd0",
    "collapsed": true
   },
   "outputs": [],
   "source": [
    "def plotCategoryRateBar(a, b, colName, topN=np.nan):\n",
    "    if topN == topN: # isNotNan\n",
    "        vals = b[colName].value_counts()[:topN]\n",
    "        subA = a.loc[a[colName].isin(vals.index.values), colName]\n",
    "        df = pd.DataFrame({'All':subA.value_counts() / len(a), 'Revenue':vals / len(b)})\n",
    "    else:\n",
    "        df = pd.DataFrame({'All':a[colName].value_counts() / len(a), 'Revenue':b[colName].value_counts() / len(b)})\n",
    "    df.sort_values('Revenue').plot.barh(colormap='jet')"
   ]
  },
  {
   "cell_type": "markdown",
   "metadata": {
    "_uuid": "76b8e5cdbcd0f77f0af9a38fc23d7d28de7ac6b3"
   },
   "source": [
    "## customDimensions"
   ]
  },
  {
   "cell_type": "code",
   "execution_count": 32,
   "metadata": {
    "_uuid": "bf4afafc3b1a3af5fc244c663f64dacea55f7428"
   },
   "outputs": [
    {
     "name": "stdout",
     "output_type": "stream",
     "text": [
      "unique customDimensions count: 6\n"
     ]
    },
    {
     "data": {
      "image/png": "[encoded data removed]",
      "text/plain": [
       "<Figure size 432x288 with 1 Axes>"
      ]
     },
     "metadata": {},
     "output_type": "display_data"
    }
   ],
   "source": [
    "print('unique customDimensions count:', train['customDimensions'].nunique())\n",
    "plotCategoryRateBar(all_data, train_rev, 'customDimensions')"
   ]
  },
  {
   "cell_type": "markdown",
   "metadata": {
    "_uuid": "df1597ce637e40c82ddbce0567f1aca6d44010d5"
   },
   "source": [
    "## date"
   ]
  },
  {
   "cell_type": "code",
   "execution_count": null,
   "metadata": {
    "_uuid": "7f62796c68e95615311e28ec061fc76c0877e967",
    "collapsed": true
   },
   "outputs": [],
   "source": [
    "format_str = '%Y%m%d'\n",
    "all_data['formated_date'] = all_data['date'].apply(lambda x: datetime.strptime(str(x), format_str))\n",
    "all_data['_year'] = all_data['formated_date'].apply(lambda x:x.year)\n",
    "all_data['_month'] = all_data['formated_date'].apply(lambda x:x.month)\n",
    "all_data['_quarterMonth'] = all_data['formated_date'].apply(lambda x:x.day//8)\n",
    "all_data['_day'] = all_data['formated_date'].apply(lambda x:x.day)\n",
    "all_data['_weekday'] = all_data['formated_date'].apply(lambda x:x.weekday())\n",
    "\n",
    "all_data.drop(['date','formated_date'], axis=1, inplace=True)"
   ]
  },
  {
   "cell_type": "markdown",
   "metadata": {
    "_uuid": "67f4ef3a6889ca30fdc15847fda4f21de1a9dc21"
   },
   "source": [
    "## channelGrouping\n",
    "* The channel via which the user came to the Store."
   ]
  },
  {
   "cell_type": "code",
   "execution_count": null,
   "metadata": {
    "_uuid": "dcd7482789b1e78f42cc63a442fd9b165ca2c351",
    "collapsed": true
   },
   "outputs": [],
   "source": [
    "plotCategoryRateBar(all_data, train_rev, 'channelGrouping')"
   ]
  },
  {
   "cell_type": "markdown",
   "metadata": {
    "_uuid": "62571c594360b5ffdb8eed4fbea60d4307de9ae4"
   },
   "source": [
    "## fullVisitorId\n",
    "* A unique identifier for each user of the Google Merchandise Store.\n",
    "\n",
    "## visitId\n",
    "* An identifier for this session. This is part of the value usually stored as the _utmb cookie. This is only unique to the user.   \n",
    "For a completely unique ID, you should use a combination of fullVisitorId and visitId.\n",
    "\n",
    "## newVisits\n"
   ]
  },
  {
   "cell_type": "code",
   "execution_count": null,
   "metadata": {
    "_uuid": "e8799d0686a4caa28107145884221bdfaa1412ce",
    "collapsed": true
   },
   "outputs": [],
   "source": [
    "print('train all:', len(train))\n",
    "print('train unique fullVisitorId:', train['fullVisitorId'].nunique())\n",
    "print('train unique visitId:', train['visitId'].nunique())\n",
    "print('-' * 30)\n",
    "print('test all:', len(test))\n",
    "print('test unique fullVisitorId:', test['fullVisitorId'].nunique())\n",
    "print('test unique visitId:', test['visitId'].nunique())\n",
    "\n",
    "#print('common fullVisitorId:', len(pd.merge(train, test, how='inner', on='fullVisitorId'))) # 183434"
   ]
  },
  {
   "cell_type": "code",
   "execution_count": null,
   "metadata": {
    "_uuid": "47d962d3eb9f8674f7dc2a457877faab6cbaa916",
    "collapsed": true
   },
   "outputs": [],
   "source": [
    "print(all_data['visitNumber'].value_counts()[:5])\n",
    "print('-' * 30)\n",
    "print(all_data['totals.newVisits'].value_counts())\n",
    "print('-' * 30)\n",
    "print(all_data['totals.bounces'].value_counts())"
   ]
  },
  {
   "cell_type": "code",
   "execution_count": null,
   "metadata": {
    "_uuid": "b8b2c483edf2c431d7d8c1615bd7f14b57e4e149",
    "collapsed": true,
    "scrolled": false
   },
   "outputs": [],
   "source": [
    "#maxVisitNumber = max(all_data['visitNumber'])\n",
    "#fvid = all_data[all_data['visitNumber'] == maxVisitNumber]['fullVisitorId']\n",
    "#all_data[all_data['fullVisitorId'] == fvid.values[0]].sort_values(by='visitNumber')"
   ]
  },
  {
   "cell_type": "code",
   "execution_count": null,
   "metadata": {
    "_uuid": "d17c15ad90f60602af11d19a9cf1c8ca8c7abb98",
    "collapsed": true
   },
   "outputs": [],
   "source": [
    "all_data['_visitStartHour'] = all_data['visitStartTime'].apply(\n",
    "    lambda x: str(datetime.fromtimestamp(x).hour))"
   ]
  },
  {
   "cell_type": "markdown",
   "metadata": {
    "_uuid": "a6b79c64d4c75031a9cd6d04abeff9eaa9648b25"
   },
   "source": [
    "## device"
   ]
  },
  {
   "cell_type": "code",
   "execution_count": null,
   "metadata": {
    "_uuid": "94893bde8a5f5f2cdd5fe7757eab49f252753adb",
    "collapsed": true
   },
   "outputs": [],
   "source": [
    "print('unique browser count:', train['device.browser'].nunique())\n",
    "plotCategoryRateBar(all_data, train_rev, 'device.browser', 10)"
   ]
  },
  {
   "cell_type": "code",
   "execution_count": null,
   "metadata": {
    "_uuid": "6103fcf3bcc3f70eec8a93d91551ec134b122342",
    "collapsed": true
   },
   "outputs": [],
   "source": [
    "pd.crosstab(all_data['device.deviceCategory'], all_data['device.isMobile'], margins=False)\n",
    "\n",
    "all_data['isMobile'] = True\n",
    "all_data.loc[all_data['device.deviceCategory'] == 'desktop', 'isMobile'] = False"
   ]
  },
  {
   "cell_type": "code",
   "execution_count": null,
   "metadata": {
    "_uuid": "d8df08c75a5c8ac8f4771805d09d96b83362f3ae",
    "collapsed": true
   },
   "outputs": [],
   "source": [
    "print('unique operatingSystem count:', train['device.operatingSystem'].nunique())\n",
    "plotCategoryRateBar(all_data, train_rev, 'device.operatingSystem', 10)"
   ]
  },
  {
   "cell_type": "markdown",
   "metadata": {
    "_uuid": "d33b8252e73c702753086bb7c0a889f1a7922a9e"
   },
   "source": [
    "## geoNetwork"
   ]
  },
  {
   "cell_type": "code",
   "execution_count": null,
   "metadata": {
    "_uuid": "3b1eaa2069013d4a1c19b80516e159a536dc6d8d",
    "collapsed": true
   },
   "outputs": [],
   "source": [
    "print('unique geoNetwork.city count:', train['geoNetwork.city'].nunique())\n",
    "plotCategoryRateBar(all_data, train_rev, 'geoNetwork.city', 10)"
   ]
  },
  {
   "cell_type": "code",
   "execution_count": null,
   "metadata": {
    "_uuid": "4f44c8d97db856c51d763f5212aa3c98698130e3",
    "collapsed": true
   },
   "outputs": [],
   "source": [
    "print('unique geoNetwork.region count:', train['geoNetwork.region'].nunique())\n",
    "plotCategoryRateBar(all_data, train_rev, 'geoNetwork.region', 10)"
   ]
  },
  {
   "cell_type": "code",
   "execution_count": null,
   "metadata": {
    "_uuid": "95c2c106c2f546e66c3d55c8cb791fffdbc10107",
    "collapsed": true
   },
   "outputs": [],
   "source": [
    "print('unique geoNetwork.subContinent count:', train['geoNetwork.subContinent'].nunique())\n",
    "plotCategoryRateBar(all_data, train_rev, 'geoNetwork.subContinent', 10)"
   ]
  },
  {
   "cell_type": "code",
   "execution_count": null,
   "metadata": {
    "_uuid": "0464279e4253c4b89ba7bfb085f7049ed85bc128",
    "collapsed": true,
    "scrolled": true
   },
   "outputs": [],
   "source": [
    "print('unique geoNetwork.continent count:', train['geoNetwork.continent'].nunique())\n",
    "plotCategoryRateBar(all_data, train_rev, 'geoNetwork.continent')"
   ]
  },
  {
   "cell_type": "code",
   "execution_count": null,
   "metadata": {
    "_uuid": "084e17c130b2a0db036b9024d16440202b391bf6",
    "collapsed": true
   },
   "outputs": [],
   "source": [
    "print('unique geoNetwork.metro count:', train['geoNetwork.metro'].nunique())\n",
    "plotCategoryRateBar(all_data, train_rev, 'geoNetwork.metro', 10)"
   ]
  },
  {
   "cell_type": "code",
   "execution_count": null,
   "metadata": {
    "_uuid": "2c5ae32c4cd8953a6f722ff66a72e6266a057d17",
    "collapsed": true,
    "scrolled": false
   },
   "outputs": [],
   "source": [
    "print('unique geoNetwork.networkDomain count:', train['geoNetwork.networkDomain'].nunique())\n",
    "plotCategoryRateBar(all_data, train_rev, 'geoNetwork.networkDomain', 10)"
   ]
  },
  {
   "cell_type": "markdown",
   "metadata": {
    "_uuid": "88469fecbc877ce38ea430e1cfd5e5ab998033e5"
   },
   "source": [
    "## totals"
   ]
  },
  {
   "cell_type": "code",
   "execution_count": null,
   "metadata": {
    "_uuid": "82570f747376d5688ce66ff788d6687b5d92447b",
    "collapsed": true,
    "scrolled": true
   },
   "outputs": [],
   "source": [
    "print(all_data['totals.hits'].value_counts()[:10])\n",
    "\n",
    "all_data['totals.hits'] = all_data['totals.hits'].astype(int)"
   ]
  },
  {
   "cell_type": "code",
   "execution_count": null,
   "metadata": {
    "_uuid": "d4b608e99f2ed2e8c2732ec7aabf3b24335e5ad8",
    "collapsed": true
   },
   "outputs": [],
   "source": [
    "print(all_data['totals.pageviews'].value_counts()[:10])\n",
    "\n",
    "all_data['totals.pageviews'] = all_data['totals.pageviews'].astype(int)"
   ]
  },
  {
   "cell_type": "code",
   "execution_count": null,
   "metadata": {
    "_uuid": "1ed36a972f984806f846c77a44cdc7aa5285ab5b",
    "collapsed": true
   },
   "outputs": [],
   "source": [
    "#print(all_data['totals.visits'].value_counts())"
   ]
  },
  {
   "cell_type": "markdown",
   "metadata": {
    "_uuid": "6bff69f27cc25158cf9aa565173d8aec5a6290ee"
   },
   "source": [
    "## trafficSource"
   ]
  },
  {
   "cell_type": "code",
   "execution_count": null,
   "metadata": {
    "_uuid": "27776645f0f26a7cdd4ff84334df20d7451c37ae",
    "collapsed": true
   },
   "outputs": [],
   "source": [
    "print('unique trafficSource.adContent count:', train['trafficSource.adContent'].nunique())\n",
    "\n",
    "plotCategoryRateBar(all_data, train_rev, 'trafficSource.adContent', 10)\n",
    "\n",
    "all_data['_adContentGMC'] = (all_data['trafficSource.adContent'] == 'Google Merchandise Collection').astype(np.uint8)"
   ]
  },
  {
   "cell_type": "code",
   "execution_count": null,
   "metadata": {
    "_uuid": "216ff4ed12ecb7543b1cb0a71582f580cfc1becc",
    "collapsed": true,
    "scrolled": false
   },
   "outputs": [],
   "source": [
    "print('unique trafficSource.campaign count:', train['trafficSource.campaign'].nunique())\n",
    "plotCategoryRateBar(all_data, train_rev, 'trafficSource.campaign', 10)\n",
    "\n",
    "all_data['_withCampaign'] = (all_data['trafficSource.campaign'] != '(not set)').astype(np.uint8)"
   ]
  },
  {
   "cell_type": "code",
   "execution_count": null,
   "metadata": {
    "_uuid": "8ddc105a27a0647205e91113d1e6744856756848",
    "collapsed": true
   },
   "outputs": [],
   "source": [
    "print(all_data['trafficSource.isTrueDirect'].value_counts())\n",
    "plotCategoryRateBar(all_data, train_rev, 'trafficSource.isTrueDirect')"
   ]
  },
  {
   "cell_type": "code",
   "execution_count": null,
   "metadata": {
    "_uuid": "7492ccdd02d468d1e7d9df57dfd3d09e5f4c2ed5",
    "collapsed": true
   },
   "outputs": [],
   "source": [
    "print('unique trafficSource.keyword count:', train['trafficSource.keyword'].nunique())\n",
    "plotCategoryRateBar(all_data, train_rev, 'trafficSource.keyword', 10)"
   ]
  },
  {
   "cell_type": "code",
   "execution_count": null,
   "metadata": {
    "_uuid": "8cc6336da483573190d7bbfc039d0aae3afc26a7",
    "collapsed": true
   },
   "outputs": [],
   "source": [
    "print('unique trafficSource.medium count:', train['trafficSource.medium'].nunique())\n",
    "plotCategoryRateBar(all_data, train_rev, 'trafficSource.medium')"
   ]
  },
  {
   "cell_type": "code",
   "execution_count": null,
   "metadata": {
    "_uuid": "68bbc2cf706edc7878ec79ef18a50ce39d5f6985",
    "collapsed": true,
    "scrolled": true
   },
   "outputs": [],
   "source": [
    "print('unique trafficSource.referralPath count:', train['trafficSource.referralPath'].nunique())\n",
    "plotCategoryRateBar(all_data, train_rev, 'trafficSource.referralPath', 10)\n",
    "\n",
    "all_data['_referralRoot'] = (all_data['trafficSource.referralPath'] == '/').astype(np.uint8)"
   ]
  },
  {
   "cell_type": "code",
   "execution_count": null,
   "metadata": {
    "_uuid": "921c55633ac9c113521b33611564762bc8090919",
    "collapsed": true
   },
   "outputs": [],
   "source": [
    "print('unique trafficSource.source count:', train['trafficSource.source'].nunique())\n",
    "plotCategoryRateBar(all_data, train_rev, 'trafficSource.source', 10)\n",
    "\n",
    "all_data['_sourceGpmall'] = (all_data['trafficSource.source'] == 'mall.googleplex.com').astype(np.uint8)"
   ]
  },
  {
   "cell_type": "markdown",
   "metadata": {
    "_uuid": "7a0eef047ac62a8ab52abb174de2e84dd6150ed9"
   },
   "source": [
    "## Aggregate"
   ]
  },
  {
   "cell_type": "code",
   "execution_count": null,
   "metadata": {
    "_uuid": "2dc1702ba3ecfc3c1e9b439fc9ba5f4a53b12ecb",
    "collapsed": true
   },
   "outputs": [],
   "source": [
    "_='''\n",
    "'''\n",
    "all_data['_meanHitsPerDay'] = all_data.groupby(['_day'])['totals.hits'].transform('mean')\n",
    "all_data['_meanHitsPerWeekday'] = all_data.groupby(['_weekday'])['totals.hits'].transform('mean')\n",
    "all_data['_meanHitsPerMonth'] = all_data.groupby(['_month'])['totals.hits'].transform('mean')\n",
    "all_data['_sumHitsPerDay'] = all_data.groupby(['_day'])['totals.hits'].transform('sum')\n",
    "all_data['_sumHitsPerWeekday'] = all_data.groupby(['_weekday'])['totals.hits'].transform('sum')\n",
    "all_data['_sumHitsPerMonth'] = all_data.groupby(['_month'])['totals.hits'].transform('sum')\n",
    "\n",
    "for feature in ['totals.hits', 'totals.pageviews']:\n",
    "    info = all_data.groupby('fullVisitorId')[feature].mean()\n",
    "    all_data['_usermean_' + feature] = all_data.fullVisitorId.map(info)\n",
    "    \n",
    "for feature in ['visitNumber']:\n",
    "    info = all_data.groupby('fullVisitorId')[feature].max()\n",
    "    all_data['_usermax_' + feature] = all_data.fullVisitorId.map(info)\n",
    "\n",
    "del info"
   ]
  },
  {
   "cell_type": "code",
   "execution_count": null,
   "metadata": {
    "_uuid": "fa595eea18a34885ba7fecbbd4bf63406d09460c",
    "collapsed": true
   },
   "outputs": [],
   "source": [
    "all_data['_source.country'] = all_data['trafficSource.source'] + '_' + all_data['geoNetwork.country']\n",
    "all_data['_campaign.medium'] = all_data['trafficSource.campaign'] + '_' + all_data['trafficSource.medium']\n",
    "all_data['_browser.category'] = all_data['device.browser'] + '_' + all_data['device.deviceCategory']\n",
    "all_data['_browser.os'] = all_data['device.browser'] + '_' + all_data['device.operatingSystem']"
   ]
  }
 ],
 "metadata": {
  "kernelspec": {
   "display_name": "Python 3",
   "language": "python",
   "name": "python3"
  },
  "language_info": {
   "codemirror_mode": {
    "name": "ipython",
    "version": 3
   },
   "file_extension": ".py",
   "mimetype": "text/x-python",
   "name": "python",
   "nbconvert_exporter": "python",
   "pygments_lexer": "ipython3",
   "version": "3.6.2"
  }
 },
 "nbformat": 4,
 "nbformat_minor": 1
}
